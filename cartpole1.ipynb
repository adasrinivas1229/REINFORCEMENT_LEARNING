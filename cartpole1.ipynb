{
  "nbformat": 4,
  "nbformat_minor": 0,
  "metadata": {
    "colab": {
      "name": "cartpole1.ipynb",
      "provenance": [],
      "authorship_tag": "ABX9TyPCguLd9BcKVw1TOGBHaJjO",
      "include_colab_link": true
    },
    "kernelspec": {
      "name": "python3",
      "display_name": "Python 3"
    }
  },
  "cells": [
    {
      "cell_type": "markdown",
      "metadata": {
        "id": "view-in-github",
        "colab_type": "text"
      },
      "source": [
        "<a href=\"https://colab.research.google.com/github/adasrinivas1229/REINFORCEMENT_LEARNING/blob/master/cartpole1.ipynb\" target=\"_parent\"><img src=\"https://colab.research.google.com/assets/colab-badge.svg\" alt=\"Open In Colab\"/></a>"
      ]
    },
    {
      "cell_type": "code",
      "metadata": {
        "id": "x9IJBxUD0yQl",
        "colab_type": "code",
        "colab": {
          "base_uri": "https://localhost:8080/",
          "height": 942
        },
        "outputId": "88bc52a0-762d-44f2-f4d5-64ddb8e913f4"
      },
      "source": [
        "import gym\n",
        "import numpy as np\n",
        "env = gym.make(\"MountainCar-v0\")\n",
        "env.reset()\n",
        "print(env.observation_space.high)\n",
        "print(env.observation_space.low)\n",
        "print(env.action_space.n)\n",
        "DISCRETE_OS_SIZE = [20]*len(env.observation_space.high)\n",
        "discrete_os_win_size = (env.observation_space.high-env.observation_space.low) / DISCRETE_OS_SIZE\n",
        "print(discrete_os_win_size)\n",
        "q_table = np.random.uniform(low=-2, high=0, size=(DISCRETE_OS_SIZE + [env.action_space.n]))\n",
        "print(q_table.shape)\n",
        "print(q_table)\n",
        "\"\"\"\n",
        "done = False\n",
        "while not done:\n",
        "    action = 2\n",
        "    new_state,reward,done,_ = env.step(action)\n",
        "    print(reward,new_state)\n",
        "    env.render()\n",
        "env.close()  \"\"\"\n",
        "    \n",
        "               \n"
      ],
      "execution_count": 1,
      "outputs": [
        {
          "output_type": "stream",
          "text": [
            "[0.6  0.07]\n",
            "[-1.2  -0.07]\n",
            "3\n",
            "[0.09  0.007]\n",
            "(20, 20, 3)\n",
            "[[[-1.86478122 -1.47571875 -0.74918571]\n",
            "  [-1.6653483  -0.57547076 -0.92709453]\n",
            "  [-1.58016245 -1.07973261 -0.76524527]\n",
            "  ...\n",
            "  [-1.06775085 -1.39343492 -0.4384131 ]\n",
            "  [-0.80157717 -0.46412409 -1.14480151]\n",
            "  [-0.9976718  -1.37061762 -0.10417631]]\n",
            "\n",
            " [[-0.54217388 -0.27725948 -1.92344961]\n",
            "  [-0.84436727 -0.37735031 -0.49709955]\n",
            "  [-0.22385302 -1.29519211 -1.20052036]\n",
            "  ...\n",
            "  [-0.68385722 -0.92055033 -0.20809669]\n",
            "  [-1.84067137 -0.24501965 -0.31009557]\n",
            "  [-1.16001732 -1.20714381 -0.33280795]]\n",
            "\n",
            " [[-0.75088531 -0.21230791 -0.02315727]\n",
            "  [-0.09770432 -0.05291339 -0.24656358]\n",
            "  [-1.10913336 -0.45273691 -1.92123286]\n",
            "  ...\n",
            "  [-0.29412535 -1.28458431 -1.96538913]\n",
            "  [-1.33253329 -1.73109942 -0.6651667 ]\n",
            "  [-1.3130184  -0.89003088 -0.87604731]]\n",
            "\n",
            " ...\n",
            "\n",
            " [[-0.32691783 -0.62048915 -0.34621328]\n",
            "  [-1.62156255 -1.1929879  -1.89579659]\n",
            "  [-1.86280027 -1.1636446  -0.68876345]\n",
            "  ...\n",
            "  [-0.49724041 -1.26451715 -1.54037102]\n",
            "  [-0.94271392 -1.47002012 -1.50665319]\n",
            "  [-1.58000795 -1.45050182 -1.41448473]]\n",
            "\n",
            " [[-1.3154828  -0.16802792 -0.58705554]\n",
            "  [-0.20655911 -0.70426988 -1.32398988]\n",
            "  [-1.99025418 -0.18973498 -0.63795493]\n",
            "  ...\n",
            "  [-0.48059017 -0.87966642 -1.12947928]\n",
            "  [-0.39706388 -1.41995907 -1.85508848]\n",
            "  [-0.71324183 -1.27368587 -1.13707619]]\n",
            "\n",
            " [[-0.35341319 -0.59106396 -0.37239291]\n",
            "  [-1.52481222 -1.15158312 -0.18521668]\n",
            "  [-0.97841011 -0.03255903 -1.50612536]\n",
            "  ...\n",
            "  [-0.29000319 -1.00136351 -1.64925464]\n",
            "  [-0.43212465 -1.57925539 -0.2578614 ]\n",
            "  [-0.49542688 -1.81224123 -0.51289174]]]\n"
          ],
          "name": "stdout"
        },
        {
          "output_type": "execute_result",
          "data": {
            "application/vnd.google.colaboratory.intrinsic+json": {
              "type": "string"
            },
            "text/plain": [
              "'\\ndone = False\\nwhile not done:\\n    action = 2\\n    new_state,reward,done,_ = env.step(action)\\n    print(reward,new_state)\\n    env.render()\\nenv.close()  '"
            ]
          },
          "metadata": {
            "tags": []
          },
          "execution_count": 1
        }
      ]
    }
  ]
}